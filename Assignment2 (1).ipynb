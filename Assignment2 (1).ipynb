{
  "nbformat": 4,
  "nbformat_minor": 0,
  "metadata": {
    "colab": {
      "name": "Assignment2.ipynb",
      "provenance": [],
      "collapsed_sections": []
    },
    "kernelspec": {
      "name": "python3",
      "display_name": "Python 3"
    },
    "language_info": {
      "name": "python"
    }
  },
  "cells": [
    {
      "cell_type": "code",
      "source": [
        "# Question 1\n",
        "def reverse_string(str):  \n",
        "    Rev = \"\"   \n",
        "    for i in str:  \n",
        "        Rev = i + Rev  \n",
        "    return Rev    \n",
        "     \n",
        "str = \"Adinath\"         \n",
        "print(\"The original string is: \",str)  \n",
        "print(\"The reverse string is\",reverse_string(str))\n"
      ],
      "metadata": {
        "colab": {
          "base_uri": "https://localhost:8080/"
        },
        "id": "JYGgTbrUxwb_",
        "outputId": "e0a18bc3-417a-44f8-aa05-7949432bcb8a"
      },
      "execution_count": 2,
      "outputs": [
        {
          "output_type": "stream",
          "name": "stdout",
          "text": [
            "The original string is:  Adinath\n",
            "The reverse string is htanidA\n"
          ]
        }
      ]
    },
    {
      "cell_type": "code",
      "source": [
        "# Question 2\n",
        "Choice1=(int)(input(\"\\n\\t Enter your 1st number: \"))\n",
        "Choice2=(int)(input(\"\\n\\t Enter your 2st number: \"))\n",
        "Choice3=(int)(input(\"\\n\\t Enter your 3st number: \"))\n",
        "Choice4=(int)(input(\"\\n\\t Enter your 4st number: \"))\n",
        "print(\"Maximum number is: \",max(Choice1,Choice2,Choice3,Choice4))\n",
        "print(\"Minimum number is:\",min(Choice1,Choice2,Choice3,Choice4))"
      ],
      "metadata": {
        "colab": {
          "base_uri": "https://localhost:8080/"
        },
        "id": "ySBw0aNizTTw",
        "outputId": "d0bb7899-298b-4eed-81d9-376522a8fd44"
      },
      "execution_count": 4,
      "outputs": [
        {
          "output_type": "stream",
          "name": "stdout",
          "text": [
            "\n",
            "\t Enter your 1st number: 12\n",
            "\n",
            "\t Enter your 2st number: 25\n",
            "\n",
            "\t Enter your 3st number: 56\n",
            "\n",
            "\t Enter your 4st number: 84\n",
            "Maximum number is:  84\n",
            "Minimum number is: 12\n"
          ]
        }
      ]
    },
    {
      "cell_type": "code",
      "source": [
        "# Question 3\n",
        "Choice1=(int)(input(\"\\n\\t Enter your 1st number: \"))\n",
        "Choice2=(int)(input(\"\\n\\t Enter your 2st number: \"))\n",
        "Choice3=(int)(input(\"\\n\\t Enter your 3st number: \"))\n",
        "Choice4=(int)(input(\"\\n\\t Enter your 4st number: \"))\n",
        "Choice=[Choice1,Choice2,Choice3,Choice4]\n",
        "print(\"Addition of number is: \",sum(Choice))"
      ],
      "metadata": {
        "colab": {
          "base_uri": "https://localhost:8080/"
        },
        "id": "dk-r9m7w0HY6",
        "outputId": "41db7983-360a-436d-9c58-692b5d8d3d1a"
      },
      "execution_count": 5,
      "outputs": [
        {
          "output_type": "stream",
          "name": "stdout",
          "text": [
            "\n",
            "\t Enter your 1st number: 26\n",
            "\n",
            "\t Enter your 2st number: 54\n",
            "\n",
            "\t Enter your 3st number: 27\n",
            "\n",
            "\t Enter your 4st number: 56\n",
            "Addition of number is:  163\n"
          ]
        }
      ]
    },
    {
      "cell_type": "code",
      "source": [
        "# Question 4\n",
        "def P1():\n",
        "    P=12\n",
        "    Q=\"Adinath\"\n",
        "    R=14+13\n",
        "print(P1.__code__.co_nlocals)\n",
        "\n"
      ],
      "metadata": {
        "colab": {
          "base_uri": "https://localhost:8080/"
        },
        "id": "Ct0VLLfgzsTM",
        "outputId": "dc05b46a-e707-4809-d9ee-621093770d2d"
      },
      "execution_count": 8,
      "outputs": [
        {
          "output_type": "stream",
          "name": "stdout",
          "text": [
            "3\n"
          ]
        }
      ]
    },
    {
      "cell_type": "code",
      "source": [
        "# Question 5\n",
        "Even=[25,46,85,35,46,26,34]\n",
        "\n",
        "for Num in Even:\n",
        "    if Num %2==0:\n",
        "        print(Num)\n"
      ],
      "metadata": {
        "colab": {
          "base_uri": "https://localhost:8080/"
        },
        "id": "EkQH1Fol01US",
        "outputId": "bbb0c7e2-8aab-4ab2-c9ec-3b1b648dea0d"
      },
      "execution_count": 9,
      "outputs": [
        {
          "output_type": "stream",
          "name": "stdout",
          "text": [
            "46\n",
            "46\n",
            "26\n",
            "34\n"
          ]
        }
      ]
    }
  ]
}