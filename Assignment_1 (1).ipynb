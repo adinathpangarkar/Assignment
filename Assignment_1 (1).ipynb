{
  "nbformat": 4,
  "nbformat_minor": 0,
  "metadata": {
    "colab": {
      "name": "Assignment_1.ipynb",
      "provenance": [],
      "collapsed_sections": []
    },
    "kernelspec": {
      "name": "python3",
      "display_name": "Python 3"
    },
    "language_info": {
      "name": "python"
    }
  },
  "cells": [
    {
      "cell_type": "code",
      "source": [
        "A=[\"Adinath\",\"Pangarkarkar\",\"Male\",\"Student\"]\n",
        "B=[\"9120\",\"TYBSc\",\"B\"]\n",
        "\n",
        "tuple(A)\n",
        "\n"
      ],
      "metadata": {
        "colab": {
          "base_uri": "https://localhost:8080/"
        },
        "id": "ypfcJzxenRLS",
        "outputId": "a166eba3-d697-42e7-c779-2e7f783b3c96"
      },
      "execution_count": 2,
      "outputs": [
        {
          "output_type": "execute_result",
          "data": {
            "text/plain": [
              "('Adinath', 'Pangarkarkar', 'Male', 'Student')"
            ]
          },
          "metadata": {},
          "execution_count": 2
        }
      ]
    },
    {
      "cell_type": "code",
      "source": [
        "tuple(B)"
      ],
      "metadata": {
        "colab": {
          "base_uri": "https://localhost:8080/"
        },
        "id": "wnKgMwKrnRdw",
        "outputId": "5cd2b81c-4fb4-4347-f368-fe35dd6ac166"
      },
      "execution_count": 3,
      "outputs": [
        {
          "output_type": "execute_result",
          "data": {
            "text/plain": [
              "('9120', 'TYBSc', 'B')"
            ]
          },
          "metadata": {},
          "execution_count": 3
        }
      ]
    },
    {
      "cell_type": "code",
      "source": [
        "a=('Adinath','Pangarkar','Male','Student')"
      ],
      "metadata": {
        "id": "eH6Bz-PJnRqT"
      },
      "execution_count": 4,
      "outputs": []
    },
    {
      "cell_type": "code",
      "source": [
        "b=('9120','TYBSC','B')"
      ],
      "metadata": {
        "id": "BpZgqqIRnRtl"
      },
      "execution_count": 5,
      "outputs": []
    },
    {
      "cell_type": "code",
      "source": [
        "a"
      ],
      "metadata": {
        "colab": {
          "base_uri": "https://localhost:8080/"
        },
        "id": "WrMPrPqUnRwc",
        "outputId": "f61a67ab-efe3-4359-b999-72f6bf6cc3dd"
      },
      "execution_count": 6,
      "outputs": [
        {
          "output_type": "execute_result",
          "data": {
            "text/plain": [
              "('Adinath', 'Pangarkar', 'Male', 'Student')"
            ]
          },
          "metadata": {},
          "execution_count": 6
        }
      ]
    },
    {
      "cell_type": "code",
      "source": [
        "print(type(a))"
      ],
      "metadata": {
        "colab": {
          "base_uri": "https://localhost:8080/"
        },
        "id": "eXQEu0MunRzT",
        "outputId": "ab4051e6-fe16-43a9-c85a-00ad5a7d5abb"
      },
      "execution_count": 7,
      "outputs": [
        {
          "output_type": "stream",
          "name": "stdout",
          "text": [
            "<class 'tuple'>\n"
          ]
        }
      ]
    },
    {
      "cell_type": "code",
      "source": [
        "print(a[:3])"
      ],
      "metadata": {
        "colab": {
          "base_uri": "https://localhost:8080/"
        },
        "id": "z2E-lD9HnR2T",
        "outputId": "0c6e34d8-7ff4-4e25-8cbb-ce8e2c91183d"
      },
      "execution_count": 13,
      "outputs": [
        {
          "output_type": "stream",
          "name": "stdout",
          "text": [
            "('Adinath', 'Pangarkar', 'Male')\n"
          ]
        }
      ]
    },
    {
      "cell_type": "code",
      "source": [
        "print(a[2:])"
      ],
      "metadata": {
        "colab": {
          "base_uri": "https://localhost:8080/"
        },
        "id": "7n-gMOntqQFu",
        "outputId": "9345e121-17e5-4dc8-e8e1-d03aad5ae92d"
      },
      "execution_count": 14,
      "outputs": [
        {
          "output_type": "stream",
          "name": "stdout",
          "text": [
            "('Male', 'Student')\n"
          ]
        }
      ]
    },
    {
      "cell_type": "code",
      "source": [
        "print(a[3])"
      ],
      "metadata": {
        "colab": {
          "base_uri": "https://localhost:8080/"
        },
        "id": "aseqW2oDqowV",
        "outputId": "40e48817-b972-4a84-ea36-f29362b8b710"
      },
      "execution_count": 16,
      "outputs": [
        {
          "output_type": "stream",
          "name": "stdout",
          "text": [
            "Student\n"
          ]
        }
      ]
    },
    {
      "cell_type": "code",
      "source": [
        "print(a[:2])"
      ],
      "metadata": {
        "colab": {
          "base_uri": "https://localhost:8080/"
        },
        "id": "XfYokKT0q1s4",
        "outputId": "c8760f70-ae7b-4255-8f33-1ec2c8193a9b"
      },
      "execution_count": 17,
      "outputs": [
        {
          "output_type": "stream",
          "name": "stdout",
          "text": [
            "('Adinath', 'Pangarkar')\n"
          ]
        }
      ]
    },
    {
      "cell_type": "code",
      "source": [
        "print(a[1:2])"
      ],
      "metadata": {
        "colab": {
          "base_uri": "https://localhost:8080/"
        },
        "id": "dY9wFSEtq-m_",
        "outputId": "4a98c2a5-140f-4e59-aae3-f4947866e41f"
      },
      "execution_count": 19,
      "outputs": [
        {
          "output_type": "stream",
          "name": "stdout",
          "text": [
            "('Pangarkar',)\n"
          ]
        }
      ]
    },
    {
      "cell_type": "code",
      "source": [
        "print(b,\"\\n\")"
      ],
      "metadata": {
        "colab": {
          "base_uri": "https://localhost:8080/"
        },
        "id": "wqGcoKcRrQTX",
        "outputId": "a41fc471-fae4-4e11-f358-ef34962dc76f"
      },
      "execution_count": 21,
      "outputs": [
        {
          "output_type": "stream",
          "name": "stdout",
          "text": [
            "('9120', 'TYBSC', 'B') \n",
            "\n"
          ]
        }
      ]
    },
    {
      "cell_type": "code",
      "source": [
        "for j in a:\n",
        "    print(j)"
      ],
      "metadata": {
        "colab": {
          "base_uri": "https://localhost:8080/"
        },
        "id": "pa1KxuGBraKU",
        "outputId": "b08862d3-e087-4797-bde7-83ca6148bb7d"
      },
      "execution_count": 35,
      "outputs": [
        {
          "output_type": "stream",
          "name": "stdout",
          "text": [
            "Adinath\n",
            "Pangarkar\n",
            "Male\n",
            "Student\n"
          ]
        }
      ]
    },
    {
      "cell_type": "code",
      "source": [
        "if \"TYBSC\" in b:\n",
        "    print(\"Adinath is in TYBSC\")"
      ],
      "metadata": {
        "colab": {
          "base_uri": "https://localhost:8080/"
        },
        "id": "F3zwWzeSrjYD",
        "outputId": "d8d536a6-54f9-4aae-f09c-9ba020446926"
      },
      "execution_count": 38,
      "outputs": [
        {
          "output_type": "stream",
          "name": "stdout",
          "text": [
            "Adinath is in TYBSC\n"
          ]
        }
      ]
    },
    {
      "cell_type": "code",
      "source": [
        "c=tuple(\"Pune\")\n",
        "a+b+c"
      ],
      "metadata": {
        "colab": {
          "base_uri": "https://localhost:8080/"
        },
        "id": "PB7THuj1r4c3",
        "outputId": "a0c2eef6-d946-4e70-f0bf-247407f62627"
      },
      "execution_count": 34,
      "outputs": [
        {
          "output_type": "execute_result",
          "data": {
            "text/plain": [
              "('Adinath',\n",
              " 'Pangarkar',\n",
              " 'Male',\n",
              " 'Student',\n",
              " '9120',\n",
              " 'TYBSC',\n",
              " 'B',\n",
              " 'P',\n",
              " 'u',\n",
              " 'n',\n",
              " 'e')"
            ]
          },
          "metadata": {},
          "execution_count": 34
        }
      ]
    }
  ]
}